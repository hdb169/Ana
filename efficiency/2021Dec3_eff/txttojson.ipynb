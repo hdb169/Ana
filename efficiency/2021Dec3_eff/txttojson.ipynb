data_eff= np.loadtxt('/home/hdbhatt/efficiency/csv_ptsidis_eff_april1_2022.txt',skiprows=1)
json_file = {}
or n in range(len(data_eff[:,0])):
    json_file[str(int(data_eff[n,0]))] = {"SHMS_Rate":data_eff[n,1],"curr":data_eff[n,2],"ChargeCorr":data_eff[n,3],"pcal_eff":data_eff[n,4],"hcal_eff":data_eff[n,5],"hcer_eff":data_eff[n,6],"aero_eff":data_eff[n,7],"htrack_eff":data_eff[n,8],"ptrack_eff":data_eff[n,9],"TLT":data_eff[n,10],"boiling":data_eff[n,11],"FADC":data_eff[n,12],"ALL_CORR":data_eff[n,13]}
with open('all_eff_jan2022_csv_ptsidis.json','w') as outfile:
    json.dump(json_file,outfile,ensure_ascii=False,indent=4)
ls -ltrh
==============================Efficiency, json files ra ein Desktop comp under home/efficiency or /home/my_analysis/json
