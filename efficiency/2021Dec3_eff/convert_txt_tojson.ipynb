{
 "cells": [
  {
   "cell_type": "code",
   "execution_count": 13,
   "metadata": {},
   "outputs": [],
   "source": [
    "filename = '/home/hdbhatt/efficiency/finaleffJan2022JSON.txt'"
   ]
  },
  {
   "cell_type": "code",
   "execution_count": 14,
   "metadata": {},
   "outputs": [
    {
     "name": "stdout",
     "output_type": "stream",
     "text": [
      "/home/hdbhatt/efficiency/finaleffJan2022JSON.txt\n"
     ]
    }
   ],
   "source": [
    "import numpy as np\n",
    "import json\n",
    "print (filename)\n",
    "dict1 ={}\n",
    "with open(filename) as fh:\n",
    "    for line in fh:\n",
    "        command, description = line.strip().split(None, 1)\n",
    "        dict1[command] = description.strip()\n",
    "\n",
    "#data_eff= np.loadtxt('/home/hdbhatt/my_analysis/json/livetime_jan2022.txt'"
   ]
  },
  {
   "cell_type": "code",
   "execution_count": 15,
   "metadata": {},
   "outputs": [],
   "source": [
    "out_file = open(\"all_eff_jan2022.json\",\"w\")\n",
    "json.dump(dict1, out_file,indent=4,sort_keys = False)\n",
    "out_file.close()"
   ]
  },
  {
   "cell_type": "code",
   "execution_count": 16,
   "metadata": {},
   "outputs": [],
   "source": [
    "data_eff= np.loadtxt('/home/hdbhatt/efficiency/finaleffJan2022JSON.txt',skiprows=1)"
   ]
  },
  {
   "cell_type": "code",
   "execution_count": 24,
   "metadata": {},
   "outputs": [
    {
     "data": {
      "text/plain": [
       "(633, 14)"
      ]
     },
     "execution_count": 24,
     "metadata": {},
     "output_type": "execute_result"
    }
   ],
   "source": [
    "data_eff.shape"
   ]
  },
  {
   "cell_type": "code",
   "execution_count": 28,
   "metadata": {},
   "outputs": [],
   "source": [
    "json_file = {}"
   ]
  },
  {
   "cell_type": "code",
   "execution_count": 30,
   "metadata": {},
   "outputs": [],
   "source": [
    "for n in range(len(data_eff[:,0])):\n",
    "    json_file[str(int(data_eff[n,0]))] = {\"SHMS_Rate\":data_eff[n,1],\"curr\":data_eff[n,2],\"ChargeCorr\":data_eff[n,3],\"pcal_eff\":data_eff[n,4],\"hcal_eff\":data_eff[n,5],\"hcer_eff\":data_eff[n,6],\"aero_eff\":data_eff[n,7],\"htrack_eff\":data_eff[n,8],\"ptrack_eff\":data_eff[n,9],\"TLT\":data_eff[n,10],\"boiling\":data_eff[n,11],\"FADC\":data_eff[n,12],\"ALL_CORR\":data_eff[n,13]}"
   ]
  },
  {
   "cell_type": "code",
   "execution_count": 31,
   "metadata": {},
   "outputs": [
    {
     "data": {
      "text/plain": [
       "[632, 0]"
      ]
     },
     "execution_count": 31,
     "metadata": {},
     "output_type": "execute_result"
    }
   ],
   "source": [
    "[n,0]"
   ]
  },
  {
   "cell_type": "code",
   "execution_count": 32,
   "metadata": {},
   "outputs": [
    {
     "data": {
      "text/plain": [
       "633"
      ]
     },
     "execution_count": 32,
     "metadata": {},
     "output_type": "execute_result"
    }
   ],
   "source": [
    "len(data_eff[:])"
   ]
  },
  {
   "cell_type": "code",
   "execution_count": 33,
   "metadata": {},
   "outputs": [],
   "source": [
    "with open('all_eff_corrJan2022.json','w') as outfile:\n",
    "    json.dump(json_file,outfile,ensure_ascii=False,indent=4)"
   ]
  },
  {
   "cell_type": "code",
   "execution_count": 34,
   "metadata": {},
   "outputs": [
    {
     "name": "stdout",
     "output_type": "stream",
     "text": [
      "\u001b[0m\u001b[01;34mall\u001b[0m/                      finaleffJan2022JSON.txt    \u001b[01;34mrftime\u001b[0m/\r\n",
      "all_eff_corrJan2022.json  final_eff_Jan2022.txt      TLT.json\r\n",
      "all_eff_jan2022.json      \u001b[01;34mhgcer\u001b[0m/                     \u001b[01;34mtracking\u001b[0m/\r\n",
      "\u001b[01;34mcal\u001b[0m/                      livetime.json\r\n",
      "convert_txt_tojson.ipynb  livetime_txt_tojson.ipynb\r\n"
     ]
    }
   ],
   "source": [
    "ls\n"
   ]
  },
  {
   "cell_type": "code",
   "execution_count": null,
   "metadata": {},
   "outputs": [],
   "source": []
  },
  {
   "cell_type": "code",
   "execution_count": null,
   "metadata": {},
   "outputs": [],
   "source": []
  },
  {
   "cell_type": "code",
   "execution_count": null,
   "metadata": {},
   "outputs": [],
   "source": []
  },
  {
   "cell_type": "code",
   "execution_count": null,
   "metadata": {},
   "outputs": [],
   "source": []
  }
 ],
 "metadata": {
  "kernelspec": {
   "display_name": "Python 3",
   "language": "python",
   "name": "python3"
  },
  "language_info": {
   "codemirror_mode": {
    "name": "ipython",
    "version": 3
   },
   "file_extension": ".py",
   "mimetype": "text/x-python",
   "name": "python",
   "nbconvert_exporter": "python",
   "pygments_lexer": "ipython3",
   "version": "3.6.9"
  }
 },
 "nbformat": 4,
 "nbformat_minor": 4
}
