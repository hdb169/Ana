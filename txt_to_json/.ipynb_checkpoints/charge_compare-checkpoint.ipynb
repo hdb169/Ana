{
 "cells": [
  {
   "cell_type": "code",
   "execution_count": 1,
   "id": "54a9483c",
   "metadata": {},
   "outputs": [],
   "source": [
    "#convert the 2d array in txt file, very powerful tool to deal with matrix calculation. Not really used here\n",
    "import numpy as np"
   ]
  },
  {
   "cell_type": "code",
   "execution_count": 32,
   "id": "8de93538",
   "metadata": {},
   "outputs": [],
   "source": [
    "import json"
   ]
  },
  {
   "cell_type": "code",
   "execution_count": 6,
   "id": "a79c0e49",
   "metadata": {},
   "outputs": [],
   "source": [
    "file_handle = open('Hem_all_eff.txt','r')"
   ]
  },
  {
   "cell_type": "code",
   "execution_count": 10,
   "id": "68e7be1f",
   "metadata": {},
   "outputs": [],
   "source": [
    "lines_list = file_handle.readlines()"
   ]
  },
  {
   "cell_type": "code",
   "execution_count": 58,
   "id": "14e788bc",
   "metadata": {},
   "outputs": [],
   "source": [
    "#read the 2d arrays in txt file, since the first row is strings, skip it, start from the numbers at 2 row\n",
    "data_Hemtxt = np.loadtxt(\"Hem_all_eff.txt\",skiprows=1)"
   ]
  },
  {
   "cell_type": "code",
   "execution_count": 5,
   "id": "6f41bea1",
   "metadata": {},
   "outputs": [
    {
     "data": {
      "text/plain": [
       "array([[6.0200e+03, 4.5200e+02, 3.0060e+01, ..., 9.6404e-01, 9.7754e-01,\n",
       "        8.8520e-01],\n",
       "       [6.0210e+03, 4.5400e+02, 3.0170e+01, ..., 9.6464e-01, 9.7628e-01,\n",
       "        8.8260e-01],\n",
       "       [6.0220e+03, 8.9000e+01, 4.0090e+01, ..., 9.7466e-01, 9.9426e-01,\n",
       "        9.1380e-01],\n",
       "       ...,\n",
       "       [7.8170e+03, 4.8500e+02, 1.4690e+01, ..., 9.4388e-01, 9.8244e-01,\n",
       "        8.2920e-01],\n",
       "       [7.8190e+03, 2.0400e+02, 4.0310e+01, ..., 9.3938e-01, 9.9194e-01,\n",
       "        8.6680e-01],\n",
       "       [7.8200e+03, 2.0600e+02, 4.0710e+01, ..., 9.6176e-01, 9.9158e-01,\n",
       "        8.7630e-01]])"
      ]
     },
     "execution_count": 5,
     "metadata": {},
     "output_type": "execute_result"
    }
   ],
   "source": [
    "#print what's in txt file. \n",
    "data_Hemtxt"
   ]
  },
  {
   "cell_type": "code",
   "execution_count": 90,
   "id": "f80d9782",
   "metadata": {},
   "outputs": [],
   "source": [
    "#initial json object, to save numbers in txt \n",
    "json_object = {}"
   ]
  },
  {
   "cell_type": "code",
   "execution_count": 91,
   "id": "7816b042",
   "metadata": {},
   "outputs": [],
   "source": [
    "#build the json file\n",
    "for n in range(len(data[:,0])):\n",
    "    \n",
    "    json_object[str(int(data[n,0]))] = {\"charge\": data[n,3],\"TE\":data[n,4],\"TEHMS\":data[n,5],\"HMS_cal_eff\":data[n,6],\"SHMS_cal_eff\":data[n,7],\"SHMS_aero_eff\":data[n,8],\"TLT\":data[n,9]}\n",
    "    "
   ]
  },
  {
   "cell_type": "code",
   "execution_count": 24,
   "id": "3e9a1567",
   "metadata": {},
   "outputs": [
    {
     "data": {
      "text/plain": [
       "514"
      ]
     },
     "execution_count": 24,
     "metadata": {},
     "output_type": "execute_result"
    }
   ],
   "source": [
    "#check how many runs in txt file\n",
    "len(data[:,0])"
   ]
  },
  {
   "cell_type": "code",
   "execution_count": 92,
   "id": "1347b6a6",
   "metadata": {},
   "outputs": [],
   "source": [
    "#save json file\n",
    "with open('Hem_all_eff.json','w') as outfile:\n",
    "    json.dump(json_object,outfile,ensure_ascii=False, indent=4)"
   ]
  },
  {
   "cell_type": "code",
   "execution_count": 34,
   "id": "296e24ba",
   "metadata": {},
   "outputs": [
    {
     "name": "stdout",
     "output_type": "stream",
     "text": [
      "Hem_all_eff.json     \u001b[1m\u001b[34mlatex\u001b[m\u001b[m/               \u001b[1m\u001b[34mshuo_analysis\u001b[m\u001b[m/\r\n",
      "Hem_all_eff.txt      \u001b[1m\u001b[34mmaterial\u001b[m\u001b[m/            \u001b[1m\u001b[34mtest_dir\u001b[m\u001b[m/\r\n",
      "\u001b[1m\u001b[34mROOTfiles\u001b[m\u001b[m/           \u001b[1m\u001b[34monline_csv\u001b[m\u001b[m/          try.json\r\n",
      "Untitled.ipynb       outfile.txt          yield_ratio.tex\r\n",
      "Untitled1.ipynb      \u001b[1m\u001b[34mresults\u001b[m\u001b[m/             yield_ratio_xbj.tex\r\n",
      "\u001b[1m\u001b[34mdb2\u001b[m\u001b[m/                 runs_info.json\r\n",
      "\u001b[1m\u001b[34mhcana\u001b[m\u001b[m/               runs_info.txt\r\n"
     ]
    }
   ],
   "source": [
    "ls"
   ]
  },
  {
   "cell_type": "code",
   "execution_count": 93,
   "id": "a1074548",
   "metadata": {},
   "outputs": [],
   "source": [
    "#read in shuo's json file\n",
    "with open('runs_info.json') as j_shuo:\n",
    "    data_shuo = json.load(j_shuo)\n",
    "  "
   ]
  },
  {
   "cell_type": "code",
   "execution_count": 94,
   "id": "d4a1ed2b",
   "metadata": {},
   "outputs": [],
   "source": [
    "#read in Hem's json file\n",
    "with open('Hem_all_eff.json') as j_Hem:\n",
    "    data_Hem = json.load(j_Hem)"
   ]
  },
  {
   "cell_type": "code",
   "execution_count": 100,
   "id": "034c9f6c",
   "metadata": {},
   "outputs": [
    {
     "name": "stdout",
     "output_type": "stream",
     "text": [
      "6387   -3.905154957251824\n",
      "6465   -8.512773799418625\n",
      "6486   -17.22924742529284\n",
      "6489   -40.65952379734933\n",
      "6490   -36.97550963458258\n",
      "6493   -37.47788757613328\n",
      "6497   -25.035443438827784\n",
      "6498   -12.737793549312869\n",
      "6499   -3.264369640236623\n",
      "6501   -10.400963454986353\n",
      "6506   -2.247397557071128\n",
      "6507   -65.94195000293766\n",
      "6509   -21.336679136035123\n",
      "6510   -6.724428361803206\n",
      "6515   -11.552005018273416\n",
      "6517   -12.28273340798517\n",
      "6519   -53.523780947781034\n",
      "6524   -47.85712821823242\n",
      "6525   -24.537059430568817\n",
      "6526   -9.263187062828123\n",
      "6527   -20.11184990278373\n",
      "6528   -137.2788220219681\n",
      "6529   -81.29547242288842\n",
      "6535   -78.44467368208785\n",
      "6536   -70.04163555330436\n",
      "6537   -51.053747319182165\n",
      "6541   -48.06097468437208\n",
      "6542   -23.630482358649527\n",
      "6543   -36.6127949685941\n",
      "6544   -3.562244672109607\n",
      "6545   -102.64822790744148\n",
      "6547   -7.656120849477325\n",
      "6548   -40.681497014100856\n",
      "6549   -57.56260701796798\n",
      "6550   -62.04866855248658\n",
      "6551   -56.40553282107502\n",
      "7694   2.1866727742970795\n"
     ]
    }
   ],
   "source": [
    "#check charge\n",
    "for key, value in data_shuo.items():\n",
    "    RunNumber = key\n",
    "    charge_shuo = value[\"charge\"]\n",
    "    \n",
    "    if key in data_Hem:\n",
    "        charge_Hem = data_Hem[str(RunNumber)][\"charge\"]\n",
    "        if(abs(charge_shuo-charge_Hem)>2):\n",
    "            print(RunNumber,\" \",charge_shuo-charge_Hem)\n",
    "        "
   ]
  },
  {
   "cell_type": "code",
   "execution_count": null,
   "id": "f207f5ff",
   "metadata": {},
   "outputs": [],
   "source": []
  }
 ],
 "metadata": {
  "kernelspec": {
   "display_name": "Python 3",
   "language": "python",
   "name": "python3"
  },
  "language_info": {
   "codemirror_mode": {
    "name": "ipython",
    "version": 3
   },
   "file_extension": ".py",
   "mimetype": "text/x-python",
   "name": "python",
   "nbconvert_exporter": "python",
   "pygments_lexer": "ipython3",
   "version": "3.8.5"
  }
 },
 "nbformat": 4,
 "nbformat_minor": 5
}
