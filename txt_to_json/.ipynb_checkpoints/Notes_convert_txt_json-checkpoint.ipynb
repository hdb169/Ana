{
 "cells": [
  {
   "cell_type": "markdown",
   "metadata": {},
   "source": [
    "**tetxtfile to json (June 26, 2021), easy to complex TRYING**<br>\n",
    "<br>\n",
    "**Example 1**\n"
   ]
  },
  {
   "cell_type": "code",
   "execution_count": 238,
   "metadata": {},
   "outputs": [],
   "source": [
    "import json\n",
    "#filename = '/home/hdbhatt/Ana/txt_to_json/data.txt'\n",
    "filename = '/home/hdbhatt/Ana/txt_to_json/runs_info.txt'\n"
   ]
  },
  {
   "cell_type": "code",
   "execution_count": 239,
   "metadata": {},
   "outputs": [],
   "source": [
    "#The textfile was this, where first word is key and the second one is the value of the key\n",
    "#name Lisa\n",
    "#designation Programmer\n",
    "#age 34\n",
    "#salary 54000\n"
   ]
  },
  {
   "cell_type": "markdown",
   "metadata": {},
   "source": [
    "**dict where the lines from txt file will be stored**\n"
   ]
  },
  {
   "cell_type": "code",
   "execution_count": 240,
   "metadata": {},
   "outputs": [
    {
     "name": "stdout",
     "output_type": "stream",
     "text": [
      "/home/hdbhatt/Ana/txt_to_json/runs_info.txt\n"
     ]
    }
   ],
   "source": [
    "print (filename)\n",
    "dict1 ={}"
   ]
  },
  {
   "cell_type": "markdown",
   "metadata": {},
   "source": [
    "**creating dictionary**"
   ]
  },
  {
   "cell_type": "code",
   "execution_count": 241,
   "metadata": {},
   "outputs": [],
   "source": [
    "with open(filename) as fh:\n",
    "    for line in fh:\n",
    "        command, description = line.strip().split(None, 1)\n",
    "        dict1[command] = description.strip()\n",
    "        "
   ]
  },
  {
   "cell_type": "markdown",
   "metadata": {},
   "source": [
    "**reads each line and trims of extra spaces and gives only valid words**\n",
    "**creating json file named test1.json**\n"
   ]
  },
  {
   "cell_type": "code",
   "execution_count": 242,
   "metadata": {},
   "outputs": [],
   "source": [
    "#out_file = open(\"test1.json\",\"w\")\n",
    "out_file = open(\"eff_runs.json\",\"w\")\n",
    "json.dump(dict1, out_file,indent=4,sort_keys = False)\n",
    "out_file.close()"
   ]
  },
  {
   "cell_type": "markdown",
   "metadata": {},
   "source": [
    "**A json file exits in the directory named test1.json.  Note the  line of code: command, description = line.strip().split(None, 1). Here split(None, 1) is used to trim off all excess spaces between a key-value pair and ‘1’ denotes split only once in a line. This ensures in a key-value pair, the spaces in the value are not removed and those words are not split. Only the key is separated from its value.**\n",
    "\n",
    "\n"
   ]
  },
  {
   "cell_type": "markdown",
   "metadata": {},
   "source": [
    "'''\n",
    "**$\\color{green}{\\text{Now How DO I Make a JSON FILE with my own namings}}$**\n",
    "'''"
   ]
  },
  {
   "cell_type": "markdown",
   "metadata": {},
   "source": [
    "**$\\color{blue}{\\text{Now How DO I Make a JSON FILE with my own namings}}$**\n"
   ]
  },
  {
   "cell_type": "markdown",
   "metadata": {},
   "source": [
    "***Let us take real example of my efficiency in table form, where the first row is the the defination of efficiency,\n",
    "so, I need to change it to json file system, with under the first column***"
   ]
  },
  {
   "cell_type": "code",
   "execution_count": 243,
   "metadata": {},
   "outputs": [],
   "source": [
    "import numpy as np\n",
    "import json\n",
    "file_eff = open('/home/hdbhatt/Ana/txt_to_json/eff.txt','r')\n",
    "read_line = file_eff.readlines()\n",
    "data_eff =np.loadtxt('/home/hdbhatt/Ana/txt_to_json/eff.txt',skiprows=1)\n",
    "#data_eff # This is array (npdataarray i.e numpy.ndarray), so data_eff.head() does not work, \n",
    "# so use data_eff[:5], to print the first 5 rows\n"
   ]
  },
  {
   "cell_type": "code",
   "execution_count": 244,
   "metadata": {},
   "outputs": [
    {
     "data": {
      "text/plain": [
       "(514, 11)"
      ]
     },
     "execution_count": 244,
     "metadata": {},
     "output_type": "execute_result"
    }
   ],
   "source": [
    "data_eff.shape # it will give row vs column # dont do shape()\n"
   ]
  },
  {
   "cell_type": "code",
   "execution_count": 245,
   "metadata": {},
   "outputs": [],
   "source": [
    "#data_eff #print txtfile\n"
   ]
  },
  {
   "cell_type": "code",
   "execution_count": 246,
   "metadata": {},
   "outputs": [],
   "source": [
    "#data_eff[2:]#print all\n"
   ]
  },
  {
   "cell_type": "code",
   "execution_count": 247,
   "metadata": {},
   "outputs": [],
   "source": [
    "#data_eff[:2] #only 2\n"
   ]
  },
  {
   "cell_type": "code",
   "execution_count": 248,
   "metadata": {},
   "outputs": [],
   "source": [
    "#make json object to save numbers in txt\n",
    "json_file = {}"
   ]
  },
  {
   "cell_type": "code",
   "execution_count": 249,
   "metadata": {},
   "outputs": [],
   "source": [
    "#build the json file\n",
    "for n in range(len(data_eff[:,0])):\n",
    "    json_file[str(int(data_eff[n,0]))] = {\"charge\":data_eff[n,3],\"TESHMS\":data_eff[n,4],\"TEHMS\":data_eff[n,5],\"HCAL_EFF\":data_eff[n,6],\"PCAL_EFF\":data_eff[n,7],\"PAERO_EFF\":data_eff[n,8],\"TLT\":data_eff[n,9]}\n",
    "    \n",
    "#here The first column [n,0] i.e run number is the head of the json element, which has to be string,\n",
    "#and is a integer in txtfile, \n",
    "    "
   ]
  },
  {
   "cell_type": "code",
   "execution_count": 250,
   "metadata": {},
   "outputs": [
    {
     "data": {
      "text/plain": [
       "[513, 0]"
      ]
     },
     "execution_count": 250,
     "metadata": {},
     "output_type": "execute_result"
    }
   ],
   "source": [
    "[n,0] #[row,column]"
   ]
  },
  {
   "cell_type": "code",
   "execution_count": 251,
   "metadata": {},
   "outputs": [
    {
     "data": {
      "text/plain": [
       "514"
      ]
     },
     "execution_count": 251,
     "metadata": {},
     "output_type": "execute_result"
    }
   ],
   "source": [
    "#check number of runs (or rows)\n",
    "#len(data_eff[:,0])# works good but not len(data_eff[:0])\n",
    "len(data_eff[:])"
   ]
  },
  {
   "cell_type": "code",
   "execution_count": 252,
   "metadata": {},
   "outputs": [],
   "source": [
    "#save the json file as\n",
    "with open('eff_json.json','w') as outfile:\n",
    "    json.dump(json_file,outfile,ensure_ascii=False,indent=4)"
   ]
  },
  {
   "cell_type": "code",
   "execution_count": 253,
   "metadata": {},
   "outputs": [
    {
     "name": "stdout",
     "output_type": "stream",
     "text": [
      "charge_compare.ipynb  eff_runs.json     json_file_all.json  test1.json\r\n",
      "datat.txt             eff.txt           notes               trial.txt\r\n",
      "data.txt              Hem_all_eff.json  runs_info.json      txt_to_json.ipynb\r\n",
      "eff_json.json         Hem_all_eff.txt   runs_info.txt\r\n"
     ]
    }
   ],
   "source": [
    "ls"
   ]
  },
  {
   "cell_type": "code",
   "execution_count": 254,
   "metadata": {},
   "outputs": [],
   "source": [
    "#json_file #prints the json file"
   ]
  },
  {
   "cell_type": "markdown",
   "metadata": {},
   "source": [
    "**Now I am converting whole eff.txt file into json file, earlier, I have only printed required one, excluding charge, rate, and product of eff. First, make a json file name, say json_file_all = {}, then from the textfile, grab the required columns from data_eff.txt file as[n,0] or [n,10] and so on**"
   ]
  },
  {
   "cell_type": "code",
   "execution_count": 255,
   "metadata": {},
   "outputs": [],
   "source": [
    "#make json object to save whole json file\n",
    "json_file_all = {}"
   ]
  },
  {
   "cell_type": "code",
   "execution_count": 256,
   "metadata": {},
   "outputs": [],
   "source": [
    "for n in range(len(data_eff[:,0])):\n",
    "    json_file_all[str(int(data_eff[n,0]))] = {\"rate\":data_eff[n,1],\"curr\":data_eff[n,2],\"charge\":data_eff[n,3],\"TESHMS\":data_eff[n,4],\"TEHMS\":data_eff[n,5],\"HCAL_EFF\":data_eff[n,6],\"PCAL_EFF\":data_eff[n,7],\"PAERO_EFF\":data_eff[n,8],\"TLT\":data_eff[n,9],\"EFF_PROD\":data_eff[n,10]}"
   ]
  },
  {
   "cell_type": "markdown",
   "metadata": {},
   "source": [
    "* now dump the so created json file into the name json_file_all.json "
   ]
  },
  {
   "cell_type": "code",
   "execution_count": 257,
   "metadata": {},
   "outputs": [],
   "source": [
    "with open('json_file_all.json','w') as outfile:\n",
    "    json.dump(json_file_all,outfile,ensure_ascii=False,indent=4)"
   ]
  },
  {
   "cell_type": "code",
   "execution_count": 258,
   "metadata": {},
   "outputs": [
    {
     "name": "stdout",
     "output_type": "stream",
     "text": [
      "charge_compare.ipynb  eff_runs.json     json_file_all.json  test1.json\r\n",
      "datat.txt             eff.txt           notes               trial.txt\r\n",
      "data.txt              Hem_all_eff.json  runs_info.json      txt_to_json.ipynb\r\n",
      "eff_json.json         Hem_all_eff.txt   runs_info.txt\r\n"
     ]
    }
   ],
   "source": [
    "ls"
   ]
  },
  {
   "cell_type": "code",
   "execution_count": 262,
   "metadata": {},
   "outputs": [],
   "source": [
    "#json_file_all #prints the json file here"
   ]
  },
  {
   "cell_type": "code",
   "execution_count": 260,
   "metadata": {},
   "outputs": [],
   "source": [
    "#ls -ltrh"
   ]
  },
  {
   "cell_type": "markdown",
   "metadata": {},
   "source": [
    "**You ARE DONE Converting TXT file to JSON FILE**\n",
    "\n"
   ]
  },
  {
   "cell_type": "markdown",
   "metadata": {},
   "source": [
    "***** Now compare two columns and print the key, value pairs  i.e Run Num and the diff:  from any two json files *****"
   ]
  },
  {
   "cell_type": "code",
   "execution_count": 263,
   "metadata": {},
   "outputs": [],
   "source": [
    "#read the first json file as\n",
    "with open('eff_json.json') as first:\n",
    "    data_first = json.load(first)"
   ]
  },
  {
   "cell_type": "code",
   "execution_count": 267,
   "metadata": {},
   "outputs": [],
   "source": [
    "#read the second json file as # but I am opening same json file\n",
    "with open('eff_json.json') as second:\n",
    "    data_second = json.load(second)"
   ]
  },
  {
   "cell_type": "code",
   "execution_count": 328,
   "metadata": {},
   "outputs": [
    {
     "name": "stdout",
     "output_type": "stream",
     "text": [
      "6133      0.9979     0.9345     0.0635\n",
      "6346      0.9903     0.9123     0.0780\n",
      "6407      0.9900     0.9086     0.0815\n",
      "6410      0.9820     0.9174     0.0646\n",
      "6411      0.9837     0.9221     0.0616\n",
      "6415      0.9837     0.9199     0.0638\n",
      "6513      0.9950     0.9281     0.0670\n",
      "6515      0.9828     0.9227     0.0601\n",
      "7620      0.9971     0.9364     0.0607\n",
      "7622      0.9964     0.9333     0.0632\n",
      "7659      0.9941     0.9213     0.0728\n",
      "7660      0.9910     0.9303     0.0607\n"
     ]
    }
   ],
   "source": [
    "#Let's compare TLT and \"PAERO_EFF\"\n",
    "\n",
    "for key, value in data_first.items():\n",
    "    RunNumber = key\n",
    "    Total_LT = value[\"TLT\"]\n",
    "    \n",
    "    if key in data_second:\n",
    "        Aero_eff = data_second[str(RunNumber)][\"PAERO_EFF\"]\n",
    "        if(abs(Total_LT-Aero_eff)>0.06):\n",
    "            #print(RunNumber,\"  \"  \"%0.4f\"  % abs(Total_LT-Aero_eff))\n",
    "            print(RunNumber, \"     \"  \"%0.4f     %0.4f     %0.4f\"     % (Total_LT, Aero_eff, Total_LT-Aero_eff))\n",
    "#space or \"\" or \"\\t\" should not be defined in between strings :\"%0.4f     %0.4f     %0.4f\" :instead give the tab"
   ]
  },
  {
   "cell_type": "markdown",
   "metadata": {},
   "source": [
    "***This Printed only those Run Numbers and their values, where the difference bewteen the TLT and aero eff > 0.06***"
   ]
  },
  {
   "cell_type": "code",
   "execution_count": null,
   "metadata": {},
   "outputs": [],
   "source": []
  },
  {
   "cell_type": "code",
   "execution_count": null,
   "metadata": {},
   "outputs": [],
   "source": []
  },
  {
   "cell_type": "code",
   "execution_count": null,
   "metadata": {},
   "outputs": [],
   "source": []
  },
  {
   "cell_type": "code",
   "execution_count": null,
   "metadata": {},
   "outputs": [],
   "source": []
  },
  {
   "cell_type": "code",
   "execution_count": null,
   "metadata": {},
   "outputs": [],
   "source": []
  }
 ],
 "metadata": {
  "kernelspec": {
   "display_name": "Python 3",
   "language": "python",
   "name": "python3"
  },
  "language_info": {
   "codemirror_mode": {
    "name": "ipython",
    "version": 3
   },
   "file_extension": ".py",
   "mimetype": "text/x-python",
   "name": "python",
   "nbconvert_exporter": "python",
   "pygments_lexer": "ipython3",
   "version": "3.6.9"
  }
 },
 "nbformat": 4,
 "nbformat_minor": 2
}
